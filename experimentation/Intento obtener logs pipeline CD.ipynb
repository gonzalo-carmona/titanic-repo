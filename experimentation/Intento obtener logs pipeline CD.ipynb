{
 "cells": [
  {
   "cell_type": "code",
   "execution_count": 5,
   "id": "4b5aebc0",
   "metadata": {},
   "outputs": [],
   "source": [
    "from azureml.core.authentication import InteractiveLoginAuthentication\n",
    "\n",
    "interactive_auth = InteractiveLoginAuthentication(tenant_id=\"b5e7ab8d-dd67-4ec2-bae5-e6a4f6474a64\")"
   ]
  },
  {
   "cell_type": "code",
   "execution_count": 6,
   "id": "fae04d6e",
   "metadata": {},
   "outputs": [],
   "source": [
    "from azureml.core import Workspace\n",
    "ws = Workspace(subscription_id=\"966ed281-4196-4f61-a09b-e093bad98b85\",\n",
    "               resource_group=\"titanic-RG\",\n",
    "               workspace_name=\"titanic-AML-WS\")"
   ]
  },
  {
   "cell_type": "code",
   "execution_count": 7,
   "id": "66622ad5",
   "metadata": {},
   "outputs": [
    {
     "name": "stdout",
     "output_type": "stream",
     "text": [
      "{'titanic-aci': AciWebservice(workspace=Workspace.create(name='titanic-AML-WS', subscription_id='966ed281-4196-4f61-a09b-e093bad98b85', resource_group='titanic-RG'), name=titanic-aci, image_id=None, image_digest=None, compute_type=ACI, state=None, scoring_uri=None, tags=None, properties={'hasInferenceSchema': 'False', 'hasHttps': 'False', 'authEnabled': 'False'}, created_by={'userObjectId': '8da604b0-39a7-4033-994a-fe6db0c7d2e9', 'userPuId': None, 'userIdp': 'https://sts.windows.net/b5e7ab8d-dd67-4ec2-bae5-e6a4f6474a64/', 'userAltSecId': None, 'userIss': 'https://sts.windows.net/b5e7ab8d-dd67-4ec2-bae5-e6a4f6474a64/', 'userTenantId': 'b5e7ab8d-dd67-4ec2-bae5-e6a4f6474a64', 'userName': '949ed367-5bb7-4128-9550-e88fcd7e7173', 'upn': None})}\n"
     ]
    }
   ],
   "source": [
    "print(ws.webservices)"
   ]
  },
  {
   "cell_type": "code",
   "execution_count": 8,
   "id": "ac70084b",
   "metadata": {},
   "outputs": [
    {
     "name": "stderr",
     "output_type": "stream",
     "text": [
      "Received bad response from Model Management Service:\n",
      "Response Code: 409\n",
      "Headers: {'Date': 'Tue, 16 Aug 2022 08:18:25 GMT', 'Content-Type': 'application/json', 'Transfer-Encoding': 'chunked', 'Connection': 'keep-alive', 'x-ms-client-request-id': '77c527e2-0c60-49e3-a18e-b376e3c4ebda', 'x-ms-client-session-id': 'e1ed123a-b46f-4e03-a8dc-33ce4d3e9b95', 'api-supported-versions': '1.0, 2018-03-01-preview, 2018-11-19', 'Strict-Transport-Security': 'max-age=15724800; includeSubDomains; preload', 'X-Content-Type-Options': 'nosniff', 'x-aml-cluster': 'vienna-westeurope-02', 'x-request-time': '0.975'}\n",
      "Content: b'{\"code\":\"Conflict\",\"statusCode\":409,\"message\":\"Conflict\",\"details\":[{\"code\":\"ContainerGroupDeploymentNotReady\",\"message\":\"The container group \\'titanic-aci-BdxLeNCNOECF_K8u37VGtw\\' is not ready for the operation.\"}],\"correlation\":{\"RequestId\":\"77c527e2-0c60-49e3-a18e-b376e3c4ebda\"}}'\n",
      "\n"
     ]
    },
    {
     "ename": "WebserviceException",
     "evalue": "WebserviceException:\n\tMessage: Received bad response from Model Management Service:\nResponse Code: 409\nHeaders: {'Date': 'Tue, 16 Aug 2022 08:18:25 GMT', 'Content-Type': 'application/json', 'Transfer-Encoding': 'chunked', 'Connection': 'keep-alive', 'x-ms-client-request-id': '77c527e2-0c60-49e3-a18e-b376e3c4ebda', 'x-ms-client-session-id': 'e1ed123a-b46f-4e03-a8dc-33ce4d3e9b95', 'api-supported-versions': '1.0, 2018-03-01-preview, 2018-11-19', 'Strict-Transport-Security': 'max-age=15724800; includeSubDomains; preload', 'X-Content-Type-Options': 'nosniff', 'x-aml-cluster': 'vienna-westeurope-02', 'x-request-time': '0.975'}\nContent: b'{\"code\":\"Conflict\",\"statusCode\":409,\"message\":\"Conflict\",\"details\":[{\"code\":\"ContainerGroupDeploymentNotReady\",\"message\":\"The container group \\'titanic-aci-BdxLeNCNOECF_K8u37VGtw\\' is not ready for the operation.\"}],\"correlation\":{\"RequestId\":\"77c527e2-0c60-49e3-a18e-b376e3c4ebda\"}}'\n\tInnerException None\n\tErrorResponse \n{\n    \"error\": {\n        \"message\": \"Received bad response from Model Management Service:\\nResponse Code: 409\\nHeaders: {'Date': 'Tue, 16 Aug 2022 08:18:25 GMT', 'Content-Type': 'application/json', 'Transfer-Encoding': 'chunked', 'Connection': 'keep-alive', 'x-ms-client-request-id': '77c527e2-0c60-49e3-a18e-b376e3c4ebda', 'x-ms-client-session-id': 'e1ed123a-b46f-4e03-a8dc-33ce4d3e9b95', 'api-supported-versions': '1.0, 2018-03-01-preview, 2018-11-19', 'Strict-Transport-Security': 'max-age=15724800; includeSubDomains; preload', 'X-Content-Type-Options': 'nosniff', 'x-aml-cluster': 'vienna-westeurope-02', 'x-request-time': '0.975'}\\nContent: b'{\\\"code\\\":\\\"Conflict\\\",\\\"statusCode\\\":409,\\\"message\\\":\\\"Conflict\\\",\\\"details\\\":[{\\\"code\\\":\\\"ContainerGroupDeploymentNotReady\\\",\\\"message\\\":\\\"The container group \\\\'titanic-aci-BdxLeNCNOECF_K8u37VGtw\\\\' is not ready for the operation.\\\"}],\\\"correlation\\\":{\\\"RequestId\\\":\\\"77c527e2-0c60-49e3-a18e-b376e3c4ebda\\\"}}'\"\n    }\n}",
     "output_type": "error",
     "traceback": [
      "\u001b[1;31m---------------------------------------------------------------------------\u001b[0m",
      "\u001b[1;31mWebserviceException\u001b[0m                       Traceback (most recent call last)",
      "\u001b[1;32m~\\AppData\\Local\\Temp\\ipykernel_5616\\2788779051.py\u001b[0m in \u001b[0;36m<module>\u001b[1;34m\u001b[0m\n\u001b[0;32m      2\u001b[0m \u001b[1;33m\u001b[0m\u001b[0m\n\u001b[0;32m      3\u001b[0m \u001b[0mservice\u001b[0m \u001b[1;33m=\u001b[0m \u001b[0mWebservice\u001b[0m\u001b[1;33m(\u001b[0m\u001b[0mws\u001b[0m\u001b[1;33m,\u001b[0m \u001b[1;34m'titanic-aci'\u001b[0m\u001b[1;33m)\u001b[0m\u001b[1;33m\u001b[0m\u001b[1;33m\u001b[0m\u001b[0m\n\u001b[1;32m----> 4\u001b[1;33m \u001b[0mprint\u001b[0m\u001b[1;33m(\u001b[0m\u001b[0mservice\u001b[0m\u001b[1;33m.\u001b[0m\u001b[0mget_logs\u001b[0m\u001b[1;33m(\u001b[0m\u001b[1;33m)\u001b[0m\u001b[1;33m)\u001b[0m\u001b[1;33m\u001b[0m\u001b[1;33m\u001b[0m\u001b[0m\n\u001b[0m",
      "\u001b[1;32m~\\Anaconda3\\lib\\site-packages\\azureml\\core\\webservice\\webservice.py\u001b[0m in \u001b[0;36mget_logs\u001b[1;34m(self, num_lines, init)\u001b[0m\n\u001b[0;32m   1235\u001b[0m         \u001b[0mresp\u001b[0m \u001b[1;33m=\u001b[0m \u001b[0mClientBase\u001b[0m\u001b[1;33m.\u001b[0m\u001b[0m_execute_func\u001b[0m\u001b[1;33m(\u001b[0m\u001b[0mget_requests_session\u001b[0m\u001b[1;33m(\u001b[0m\u001b[1;33m)\u001b[0m\u001b[1;33m.\u001b[0m\u001b[0mget\u001b[0m\u001b[1;33m,\u001b[0m \u001b[0mservice_logs_url\u001b[0m\u001b[1;33m,\u001b[0m \u001b[0mheaders\u001b[0m\u001b[1;33m=\u001b[0m\u001b[0mheaders\u001b[0m\u001b[1;33m,\u001b[0m \u001b[0mparams\u001b[0m\u001b[1;33m=\u001b[0m\u001b[0mparams\u001b[0m\u001b[1;33m)\u001b[0m\u001b[1;33m\u001b[0m\u001b[1;33m\u001b[0m\u001b[0m\n\u001b[0;32m   1236\u001b[0m         \u001b[1;32mif\u001b[0m \u001b[0mresp\u001b[0m\u001b[1;33m.\u001b[0m\u001b[0mstatus_code\u001b[0m \u001b[1;33m>=\u001b[0m \u001b[1;36m400\u001b[0m\u001b[1;33m:\u001b[0m\u001b[1;33m\u001b[0m\u001b[1;33m\u001b[0m\u001b[0m\n\u001b[1;32m-> 1237\u001b[1;33m             raise WebserviceException('Received bad response from Model Management Service:\\n'\n\u001b[0m\u001b[0;32m   1238\u001b[0m                                       \u001b[1;34m'Response Code: {}\\n'\u001b[0m\u001b[1;33m\u001b[0m\u001b[1;33m\u001b[0m\u001b[0m\n\u001b[0;32m   1239\u001b[0m                                       \u001b[1;34m'Headers: {}\\n'\u001b[0m\u001b[1;33m\u001b[0m\u001b[1;33m\u001b[0m\u001b[0m\n",
      "\u001b[1;31mWebserviceException\u001b[0m: WebserviceException:\n\tMessage: Received bad response from Model Management Service:\nResponse Code: 409\nHeaders: {'Date': 'Tue, 16 Aug 2022 08:18:25 GMT', 'Content-Type': 'application/json', 'Transfer-Encoding': 'chunked', 'Connection': 'keep-alive', 'x-ms-client-request-id': '77c527e2-0c60-49e3-a18e-b376e3c4ebda', 'x-ms-client-session-id': 'e1ed123a-b46f-4e03-a8dc-33ce4d3e9b95', 'api-supported-versions': '1.0, 2018-03-01-preview, 2018-11-19', 'Strict-Transport-Security': 'max-age=15724800; includeSubDomains; preload', 'X-Content-Type-Options': 'nosniff', 'x-aml-cluster': 'vienna-westeurope-02', 'x-request-time': '0.975'}\nContent: b'{\"code\":\"Conflict\",\"statusCode\":409,\"message\":\"Conflict\",\"details\":[{\"code\":\"ContainerGroupDeploymentNotReady\",\"message\":\"The container group \\'titanic-aci-BdxLeNCNOECF_K8u37VGtw\\' is not ready for the operation.\"}],\"correlation\":{\"RequestId\":\"77c527e2-0c60-49e3-a18e-b376e3c4ebda\"}}'\n\tInnerException None\n\tErrorResponse \n{\n    \"error\": {\n        \"message\": \"Received bad response from Model Management Service:\\nResponse Code: 409\\nHeaders: {'Date': 'Tue, 16 Aug 2022 08:18:25 GMT', 'Content-Type': 'application/json', 'Transfer-Encoding': 'chunked', 'Connection': 'keep-alive', 'x-ms-client-request-id': '77c527e2-0c60-49e3-a18e-b376e3c4ebda', 'x-ms-client-session-id': 'e1ed123a-b46f-4e03-a8dc-33ce4d3e9b95', 'api-supported-versions': '1.0, 2018-03-01-preview, 2018-11-19', 'Strict-Transport-Security': 'max-age=15724800; includeSubDomains; preload', 'X-Content-Type-Options': 'nosniff', 'x-aml-cluster': 'vienna-westeurope-02', 'x-request-time': '0.975'}\\nContent: b'{\\\"code\\\":\\\"Conflict\\\",\\\"statusCode\\\":409,\\\"message\\\":\\\"Conflict\\\",\\\"details\\\":[{\\\"code\\\":\\\"ContainerGroupDeploymentNotReady\\\",\\\"message\\\":\\\"The container group \\\\'titanic-aci-BdxLeNCNOECF_K8u37VGtw\\\\' is not ready for the operation.\\\"}],\\\"correlation\\\":{\\\"RequestId\\\":\\\"77c527e2-0c60-49e3-a18e-b376e3c4ebda\\\"}}'\"\n    }\n}"
     ]
    }
   ],
   "source": [
    "from azureml.core import Webservice\n",
    "\n",
    "service = Webservice(ws, 'titanic-aci')\n",
    "print(service.get_logs())"
   ]
  },
  {
   "cell_type": "code",
   "execution_count": null,
   "id": "ca0beb33",
   "metadata": {},
   "outputs": [],
   "source": []
  }
 ],
 "metadata": {
  "kernelspec": {
   "display_name": "Python 3 (ipykernel)",
   "language": "python",
   "name": "python3"
  },
  "language_info": {
   "codemirror_mode": {
    "name": "ipython",
    "version": 3
   },
   "file_extension": ".py",
   "mimetype": "text/x-python",
   "name": "python",
   "nbconvert_exporter": "python",
   "pygments_lexer": "ipython3",
   "version": "3.8.13"
  }
 },
 "nbformat": 4,
 "nbformat_minor": 5
}
